{
 "cells": [
  {
   "cell_type": "code",
   "execution_count": 1,
   "metadata": {},
   "outputs": [],
   "source": [
    "%load_ext autoreload"
   ]
  },
  {
   "cell_type": "code",
   "execution_count": 2,
   "metadata": {},
   "outputs": [],
   "source": [
    "%autoreload 2"
   ]
  },
  {
   "cell_type": "code",
   "execution_count": 3,
   "metadata": {},
   "outputs": [],
   "source": [
    "from mcunet.tinynas.mnasnet.searchspace import layer_choices"
   ]
  },
  {
   "cell_type": "code",
   "execution_count": 1,
   "metadata": {},
   "outputs": [],
   "source": [
    "import numpy as np"
   ]
  },
  {
   "cell_type": "code",
   "execution_count": 4,
   "metadata": {},
   "outputs": [],
   "source": [
    "array = np.array(\n",
    "    np.meshgrid(\n",
    "        layer_choices,\n",
    "        layer_choices,\n",
    "        layer_choices,\n",
    "        layer_choices,\n",
    "        layer_choices,\n",
    "        layer_choices,\n",
    "        layer_choices\n",
    "    )\n",
    ").T.reshape(-1, 7)"
   ]
  },
  {
   "cell_type": "code",
   "execution_count": 8,
   "metadata": {},
   "outputs": [
    {
     "data": {
      "text/plain": [
       "15309"
      ]
     },
     "execution_count": 8,
     "metadata": {},
     "output_type": "execute_result"
    }
   ],
   "source": [
    "array.size"
   ]
  },
  {
   "cell_type": "code",
   "execution_count": 1,
   "metadata": {},
   "outputs": [],
   "source": [
    "from mcunet.tinynas.mnasnet.searchspace import sample_model, to_json"
   ]
  },
  {
   "cell_type": "code",
   "execution_count": 3,
   "metadata": {},
   "outputs": [
    {
     "data": {
      "text/plain": [
       "'{\"n_classes\": 42, \"width_mult\": 1.0, \"resolution\": 224, \"dropout\": 0.2, \"blocks\": [{\"n_layers\": 1, \"in_channels\": 32, \"out_channels\": 16, \"first_stride\": 1, \"expand_ratio\": 1, \"conv_op\": 0, \"kernel_size\": 7, \"se_ratio\": 0, \"skip_op\": 0}, {\"n_layers\": 3, \"in_channels\": 16, \"out_channels\": 24, \"first_stride\": 2, \"expand_ratio\": 6, \"conv_op\": 0, \"kernel_size\": 5, \"se_ratio\": 0.25, \"skip_op\": 1}, {\"n_layers\": 2, \"in_channels\": 24, \"out_channels\": 24, \"first_stride\": 2, \"expand_ratio\": 6, \"conv_op\": 1, \"kernel_size\": 5, \"se_ratio\": 0.25, \"skip_op\": 0}, {\"n_layers\": 4, \"in_channels\": 24, \"out_channels\": 64, \"first_stride\": 2, \"expand_ratio\": 6, \"conv_op\": 1, \"kernel_size\": 7, \"se_ratio\": 0.25, \"skip_op\": 1}, {\"n_layers\": 2, \"in_channels\": 64, \"out_channels\": 72, \"first_stride\": 1, \"expand_ratio\": 6, \"conv_op\": 0, \"kernel_size\": 5, \"se_ratio\": 0, \"skip_op\": 0}, {\"n_layers\": 3, \"in_channels\": 72, \"out_channels\": 200, \"first_stride\": 2, \"expand_ratio\": 6, \"conv_op\": 1, \"kernel_size\": 7, \"se_ratio\": 0, \"skip_op\": 1}, {\"n_layers\": 2, \"in_channels\": 200, \"out_channels\": 400, \"first_stride\": 1, \"expand_ratio\": 6, \"conv_op\": 2, \"kernel_size\": 7, \"se_ratio\": 0.25, \"skip_op\": 0}], \"last_channels\": 1280}'"
      ]
     },
     "execution_count": 3,
     "metadata": {},
     "output_type": "execute_result"
    }
   ],
   "source": [
    "rng = np.random.default_rng()\n",
    "model = sample_model(rng, 42)\n",
    "to_json(model)"
   ]
  },
  {
   "cell_type": "code",
   "execution_count": 25,
   "metadata": {},
   "outputs": [],
   "source": [
    "from mcunet.tinynas.proxylessnas.model import SuperProxylessNAS"
   ]
  },
  {
   "cell_type": "code",
   "execution_count": 26,
   "metadata": {},
   "outputs": [],
   "source": [
    "super_nas = SuperProxylessNAS(1.0, 224, 43)"
   ]
  },
  {
   "cell_type": "code",
   "execution_count": 3,
   "metadata": {},
   "outputs": [],
   "source": [
    "super_nas._switch.active = True"
   ]
  },
  {
   "cell_type": "code",
   "execution_count": 28,
   "metadata": {},
   "outputs": [
    {
     "data": {
      "text/plain": [
       "tensor([[-0.0464,  0.0339,  0.1892, -0.0848,  0.0913, -0.2680, -0.0901, -0.1498,\n",
       "          0.1336, -0.1449, -0.1216, -0.1886, -0.3643, -0.0906, -0.1311,  0.1891,\n",
       "         -0.3558, -0.0301, -0.0557, -0.2962,  0.0455,  0.0799,  0.2313, -0.1290,\n",
       "         -0.1790,  0.1736,  0.1672,  0.1642, -0.1127, -0.0790,  0.2817,  0.1063,\n",
       "         -0.1393, -0.0115, -0.1056,  0.0272, -0.0203,  0.2168,  0.0941, -0.0256,\n",
       "         -0.0330, -0.1169, -0.0450]], grad_fn=<AddmmBackward0>)"
      ]
     },
     "execution_count": 28,
     "metadata": {},
     "output_type": "execute_result"
    }
   ],
   "source": [
    "tensor = torch.randn(1, 3, 224, 224)\n",
    "super_nas(tensor)"
   ]
  },
  {
   "cell_type": "code",
   "execution_count": 3,
   "metadata": {},
   "outputs": [],
   "source": [
    "import copy\n",
    "\n",
    "import torch\n",
    "import torch.nn as nn\n",
    "\n",
    "from mcunet.tinynas.proxylessnas.old import *\n",
    "from mcunet.tinynas.proxylessnas.layers import MixedOp, MixedOpSwitch"
   ]
  },
  {
   "cell_type": "code",
   "execution_count": 4,
   "metadata": {},
   "outputs": [],
   "source": [
    "def build_candidate_ops(candidate_ops, in_channels, out_channels, stride, ops_order):\n",
    "    if candidate_ops is None:\n",
    "        raise ValueError('please specify a candidate set')\n",
    "\n",
    "    name2ops = {\n",
    "        'Identity': lambda in_C, out_C, S: IdentityLayer(in_C, out_C, ops_order=ops_order),\n",
    "        'Zero': lambda in_C, out_C, S: ZeroLayer(stride=S),\n",
    "    }\n",
    "    # add MBConv layers\n",
    "    name2ops.update({\n",
    "        '3x3_MBConv1': lambda in_C, out_C, S: MBInvertedConvLayer(in_C, out_C, 3, S, 1),\n",
    "        '3x3_MBConv2': lambda in_C, out_C, S: MBInvertedConvLayer(in_C, out_C, 3, S, 2),\n",
    "        '3x3_MBConv3': lambda in_C, out_C, S: MBInvertedConvLayer(in_C, out_C, 3, S, 3),\n",
    "        '3x3_MBConv4': lambda in_C, out_C, S: MBInvertedConvLayer(in_C, out_C, 3, S, 4),\n",
    "        '3x3_MBConv5': lambda in_C, out_C, S: MBInvertedConvLayer(in_C, out_C, 3, S, 5),\n",
    "        '3x3_MBConv6': lambda in_C, out_C, S: MBInvertedConvLayer(in_C, out_C, 3, S, 6),\n",
    "        #######################################################################################\n",
    "        '5x5_MBConv1': lambda in_C, out_C, S: MBInvertedConvLayer(in_C, out_C, 5, S, 1),\n",
    "        '5x5_MBConv2': lambda in_C, out_C, S: MBInvertedConvLayer(in_C, out_C, 5, S, 2),\n",
    "        '5x5_MBConv3': lambda in_C, out_C, S: MBInvertedConvLayer(in_C, out_C, 5, S, 3),\n",
    "        '5x5_MBConv4': lambda in_C, out_C, S: MBInvertedConvLayer(in_C, out_C, 5, S, 4),\n",
    "        '5x5_MBConv5': lambda in_C, out_C, S: MBInvertedConvLayer(in_C, out_C, 5, S, 5),\n",
    "        '5x5_MBConv6': lambda in_C, out_C, S: MBInvertedConvLayer(in_C, out_C, 5, S, 6),\n",
    "        #######################################################################################\n",
    "        '7x7_MBConv1': lambda in_C, out_C, S: MBInvertedConvLayer(in_C, out_C, 7, S, 1),\n",
    "        '7x7_MBConv2': lambda in_C, out_C, S: MBInvertedConvLayer(in_C, out_C, 7, S, 2),\n",
    "        '7x7_MBConv3': lambda in_C, out_C, S: MBInvertedConvLayer(in_C, out_C, 7, S, 3),\n",
    "        '7x7_MBConv4': lambda in_C, out_C, S: MBInvertedConvLayer(in_C, out_C, 7, S, 4),\n",
    "        '7x7_MBConv5': lambda in_C, out_C, S: MBInvertedConvLayer(in_C, out_C, 7, S, 5),\n",
    "        '7x7_MBConv6': lambda in_C, out_C, S: MBInvertedConvLayer(in_C, out_C, 7, S, 6),\n",
    "    })\n",
    "\n",
    "    return [\n",
    "        name2ops[name](in_channels, out_channels, stride) for name in candidate_ops\n",
    "    ]"
   ]
  },
  {
   "cell_type": "code",
   "execution_count": 5,
   "metadata": {},
   "outputs": [],
   "source": [
    "conv_candidates = [\n",
    "    '3x3_MBConv3', '3x3_MBConv6',\n",
    "    '5x5_MBConv3', '5x5_MBConv6',\n",
    "    '7x7_MBConv3', '7x7_MBConv6',\n",
    "]\n",
    "\n",
    "candidates = build_candidate_ops(conv_candidates, 1, 1, 1, \"weight_bn_act\")\n",
    "\n",
    "for c in candidates:\n",
    "    for m in c.modules():\n",
    "        if isinstance(m, (nn.Conv2d, nn.BatchNorm2d, nn.Linear)):\n",
    "            nn.init.ones_(m.weight)\n",
    "            if m.bias is not None:\n",
    "                nn.init.zeros_(m.bias)\n",
    "\n",
    "candidates1 = copy.deepcopy(candidates)\n",
    "candidates2 = copy.deepcopy(candidates)"
   ]
  },
  {
   "cell_type": "code",
   "execution_count": 6,
   "metadata": {},
   "outputs": [],
   "source": [
    "old_mixed = MixedEdge(candidates1)\n",
    "\n",
    "switch = MixedOpSwitch()\n",
    "new_mixed = MixedOp(candidates2, switch)\n",
    "\n",
    "new_mixed.arch_params = copy.deepcopy(old_mixed.AP_path_alpha)\n",
    "new_mixed.binary_gates = copy.deepcopy(old_mixed.AP_path_wb)"
   ]
  },
  {
   "cell_type": "code",
   "execution_count": 7,
   "metadata": {},
   "outputs": [
    {
     "data": {
      "text/plain": [
       "(tensor([True, True, True, True, True, True]),\n",
       " tensor([True, True, True, True, True, True]))"
      ]
     },
     "execution_count": 7,
     "metadata": {},
     "output_type": "execute_result"
    }
   ],
   "source": [
    "old_mixed.AP_path_alpha == new_mixed.arch_params, old_mixed.AP_path_wb == new_mixed.binary_gates"
   ]
  },
  {
   "cell_type": "code",
   "execution_count": 8,
   "metadata": {},
   "outputs": [
    {
     "data": {
      "text/plain": [
       "([0], 0)"
      ]
     },
     "execution_count": 8,
     "metadata": {},
     "output_type": "execute_result"
    }
   ],
   "source": [
    "old_mixed.active_index, new_mixed.active_index"
   ]
  },
  {
   "cell_type": "code",
   "execution_count": 9,
   "metadata": {},
   "outputs": [
    {
     "data": {
      "text/plain": [
       "(None, [1, 2, 3, 4, 5])"
      ]
     },
     "execution_count": 9,
     "metadata": {},
     "output_type": "execute_result"
    }
   ],
   "source": [
    "old_mixed.inactive_index, new_mixed.inactive_index"
   ]
  },
  {
   "cell_type": "code",
   "execution_count": 10,
   "metadata": {},
   "outputs": [
    {
     "data": {
      "text/plain": [
       "(None, None)"
      ]
     },
     "execution_count": 10,
     "metadata": {},
     "output_type": "execute_result"
    }
   ],
   "source": [
    "old_mixed.log_prob, new_mixed.log_prob"
   ]
  },
  {
   "cell_type": "code",
   "execution_count": 11,
   "metadata": {},
   "outputs": [
    {
     "data": {
      "text/plain": [
       "(None, None)"
      ]
     },
     "execution_count": 11,
     "metadata": {},
     "output_type": "execute_result"
    }
   ],
   "source": [
    "old_mixed.current_prob_over_ops, new_mixed.current_prob_over_ops"
   ]
  },
  {
   "cell_type": "code",
   "execution_count": 12,
   "metadata": {},
   "outputs": [
    {
     "data": {
      "text/plain": [
       "tensor([True, True, True, True, True, True])"
      ]
     },
     "execution_count": 12,
     "metadata": {},
     "output_type": "execute_result"
    }
   ],
   "source": [
    "old_mixed.probs_over_ops == new_mixed.softmax_arch_params()"
   ]
  },
  {
   "cell_type": "code",
   "execution_count": 13,
   "metadata": {},
   "outputs": [
    {
     "data": {
      "text/plain": [
       "((0, 1.0), (0, tensor(1., grad_fn=<SelectBackward0>)))"
      ]
     },
     "execution_count": 13,
     "metadata": {},
     "output_type": "execute_result"
    }
   ],
   "source": [
    "old_mixed.chosen_index, (new_mixed.chosen_index(), new_mixed.softmax_arch_params()[new_mixed.chosen_index()])"
   ]
  },
  {
   "cell_type": "code",
   "execution_count": 14,
   "metadata": {},
   "outputs": [
    {
     "data": {
      "text/plain": [
       "MBInvertedConvLayer(\n",
       "  (inverted_bottleneck): Sequential(\n",
       "    (conv): Conv2d(1, 3, kernel_size=(1, 1), stride=(1, 1), bias=False)\n",
       "    (bn): BatchNorm2d(3, eps=1e-05, momentum=0.1, affine=True, track_running_stats=True)\n",
       "    (act): ReLU6(inplace=True)\n",
       "  )\n",
       "  (depth_conv): Sequential(\n",
       "    (conv): Conv2d(3, 3, kernel_size=(3, 3), stride=(1, 1), padding=(1, 1), groups=3, bias=False)\n",
       "    (bn): BatchNorm2d(3, eps=1e-05, momentum=0.1, affine=True, track_running_stats=True)\n",
       "    (act): ReLU6(inplace=True)\n",
       "  )\n",
       "  (point_linear): Sequential(\n",
       "    (conv): Conv2d(3, 1, kernel_size=(1, 1), stride=(1, 1), bias=False)\n",
       "    (bn): BatchNorm2d(1, eps=1e-05, momentum=0.1, affine=True, track_running_stats=True)\n",
       "  )\n",
       ")"
      ]
     },
     "execution_count": 14,
     "metadata": {},
     "output_type": "execute_result"
    }
   ],
   "source": [
    "old_mixed.chosen_op"
   ]
  },
  {
   "cell_type": "code",
   "execution_count": 15,
   "metadata": {},
   "outputs": [
    {
     "data": {
      "text/plain": [
       "MBInvertedConvLayer(\n",
       "  (inverted_bottleneck): Sequential(\n",
       "    (conv): Conv2d(1, 3, kernel_size=(1, 1), stride=(1, 1), bias=False)\n",
       "    (bn): BatchNorm2d(3, eps=1e-05, momentum=0.1, affine=True, track_running_stats=True)\n",
       "    (act): ReLU6(inplace=True)\n",
       "  )\n",
       "  (depth_conv): Sequential(\n",
       "    (conv): Conv2d(3, 3, kernel_size=(3, 3), stride=(1, 1), padding=(1, 1), groups=3, bias=False)\n",
       "    (bn): BatchNorm2d(3, eps=1e-05, momentum=0.1, affine=True, track_running_stats=True)\n",
       "    (act): ReLU6(inplace=True)\n",
       "  )\n",
       "  (point_linear): Sequential(\n",
       "    (conv): Conv2d(3, 1, kernel_size=(1, 1), stride=(1, 1), bias=False)\n",
       "    (bn): BatchNorm2d(1, eps=1e-05, momentum=0.1, affine=True, track_running_stats=True)\n",
       "  )\n",
       ")"
      ]
     },
     "execution_count": 15,
     "metadata": {},
     "output_type": "execute_result"
    }
   ],
   "source": [
    "new_mixed.chosen_candidate()"
   ]
  },
  {
   "cell_type": "code",
   "execution_count": 16,
   "metadata": {},
   "outputs": [
    {
     "data": {
      "text/plain": [
       "tensor(True)"
      ]
     },
     "execution_count": 16,
     "metadata": {},
     "output_type": "execute_result"
    }
   ],
   "source": [
    "old_mixed.entropy() == new_mixed.entropy()"
   ]
  },
  {
   "cell_type": "code",
   "execution_count": 17,
   "metadata": {},
   "outputs": [],
   "source": [
    "tensor = torch.randn(1, 1, 8, 8)"
   ]
  },
  {
   "cell_type": "code",
   "execution_count": 18,
   "metadata": {},
   "outputs": [],
   "source": [
    "old_forward = old_mixed(tensor)"
   ]
  },
  {
   "cell_type": "code",
   "execution_count": 19,
   "metadata": {},
   "outputs": [],
   "source": [
    "new_forward = new_mixed(tensor)"
   ]
  },
  {
   "cell_type": "code",
   "execution_count": 20,
   "metadata": {},
   "outputs": [
    {
     "data": {
      "text/plain": [
       "tensor([[[[True, True, True, True, True, True, True, True],\n",
       "          [True, True, True, True, True, True, True, True],\n",
       "          [True, True, True, True, True, True, True, True],\n",
       "          [True, True, True, True, True, True, True, True],\n",
       "          [True, True, True, True, True, True, True, True],\n",
       "          [True, True, True, True, True, True, True, True],\n",
       "          [True, True, True, True, True, True, True, True],\n",
       "          [True, True, True, True, True, True, True, True]]]])"
      ]
     },
     "execution_count": 20,
     "metadata": {},
     "output_type": "execute_result"
    }
   ],
   "source": [
    "old_forward == new_forward"
   ]
  },
  {
   "cell_type": "code",
   "execution_count": 21,
   "metadata": {},
   "outputs": [],
   "source": [
    "MixedEdge.MODE = \"full_v2\"\n",
    "switch.active = True\n",
    "\n",
    "# reset_binary_gates\n",
    "old_mixed.binarize()\n",
    "new_mixed.binarize()"
   ]
  },
  {
   "cell_type": "code",
   "execution_count": 22,
   "metadata": {},
   "outputs": [],
   "source": [
    "old_forward = old_mixed(tensor)\n",
    "new_forward = new_mixed(tensor)"
   ]
  },
  {
   "cell_type": "code",
   "execution_count": 23,
   "metadata": {},
   "outputs": [
    {
     "data": {
      "text/plain": [
       "tensor([[[[True, True, True, True, True, True, True, True],\n",
       "          [True, True, True, True, True, True, True, True],\n",
       "          [True, True, True, True, True, True, True, True],\n",
       "          [True, True, True, True, True, True, True, True],\n",
       "          [True, True, True, True, True, True, True, True],\n",
       "          [True, True, True, True, True, True, True, True],\n",
       "          [True, True, True, True, True, True, True, True],\n",
       "          [True, True, True, True, True, True, True, True]]]])"
      ]
     },
     "execution_count": 23,
     "metadata": {},
     "output_type": "execute_result"
    }
   ],
   "source": [
    "old_forward == new_forward"
   ]
  },
  {
   "cell_type": "code",
   "execution_count": 34,
   "metadata": {},
   "outputs": [],
   "source": [
    "from mcunet.tinynas.proxylessnas.old import *\n",
    "from mcunet.tinynas.proxylessnas.layers import MixedOp, MixedOpSwitch"
   ]
  },
  {
   "cell_type": "code",
   "execution_count": 18,
   "metadata": {},
   "outputs": [],
   "source": [
    "from collections.abc import Iterator\n",
    "\n",
    "def init(net: nn.Module) -> None:\n",
    "    for m in net.modules():\n",
    "        if isinstance(m, (nn.Conv2d, nn.BatchNorm2d, nn.Linear)):\n",
    "            nn.init.ones_(m.weight)\n",
    "            if m.bias is not None:\n",
    "                nn.init.zeros_(m.bias)\n",
    "\n",
    "\n",
    "def parameters(\n",
    "    named_parameters: list[tuple[str, Iterator]], exclude: list[str]\n",
    ") -> Iterator[nn.Parameter]:\n",
    "    for name, param in named_parameters:\n",
    "        if name not in exclude:\n",
    "            yield param\n",
    "\n",
    "conv_candidates = [\n",
    "#  \"3x3_MBConv1\"\n",
    "   \"3x3_MBConv3\", \"3x3_MBConv6\",\n",
    "   \"5x5_MBConv3\", \"5x5_MBConv6\",\n",
    "   \"7x7_MBConv3\", \"7x7_MBConv6\",\n",
    "]\n",
    "\n",
    "candidates = build_candidate_ops(conv_candidates, 1, 1, 1, \"weight_bn_act\")\n",
    "\n",
    "candidates1 = copy.deepcopy(candidates)\n",
    "candidates2 = copy.deepcopy(candidates)\n",
    "\n",
    "MixedEdge.MODE = None\n",
    "mixed_old = MixedEdge(candidates1)\n",
    "\n",
    "switch = MixedOpSwitch()\n",
    "mixed_new = MixedOp(candidates2, switch)\n",
    "\n",
    "mixed_new.arch_params = copy.deepcopy(mixed_old.AP_path_alpha)\n",
    "mixed_new.binary_gates = copy.deepcopy(mixed_old.AP_path_wb)\n",
    "\n",
    "image = torch.randn(1, 1, 8, 8)\n",
    "label = torch.randn(1, 1, 8, 8)\n",
    "\n",
    "net_old = nn.Sequential(\n",
    "    nn.Conv2d(1, 1, 1),\n",
    "    mixed_old\n",
    ")\n",
    "\n",
    "net_new = nn.Sequential(\n",
    "    nn.Conv2d(1, 1, 1),\n",
    "    mixed_new\n",
    ")\n",
    "\n",
    "init(net_old)\n",
    "init(net_new)\n",
    "\n",
    "criterion_old = nn.CrossEntropyLoss()\n",
    "criterion_new = nn.CrossEntropyLoss()\n",
    "adam_old = torch.optim.Adam(parameters(net_old.named_parameters(), [\"AP_path_alpha\", \"AP_path_wb\"]))\n",
    "adam_new = torch.optim.Adam(parameters(net_new.named_parameters(), [\"arch_params\", \"binary_gates\"]))\n",
    "\n",
    "_ = net_old.train()\n",
    "_ = net_new.train()"
   ]
  },
  {
   "cell_type": "code",
   "execution_count": 19,
   "metadata": {},
   "outputs": [],
   "source": [
    "MixedEdge.MODE = \"full_v2\"\n",
    "switch.active = True\n",
    "\n",
    "# reset_binary_gates\n",
    "mixed_old.binarize()\n",
    "mixed_new.binarize()"
   ]
  },
  {
   "cell_type": "code",
   "execution_count": 20,
   "metadata": {},
   "outputs": [],
   "source": [
    "output_old = net_old(image)\n",
    "loss_old = criterion_old(output_old, label)\n",
    "net_old.zero_grad()\n",
    "loss_old.backward()\n",
    "mixed_old.set_arch_param_grad()\n",
    "adam_old.step()\n",
    "\n",
    "output_new = net_new(image)\n",
    "loss_new = criterion_new(output_new, label)\n",
    "net_new.zero_grad()\n",
    "loss_new.backward()\n",
    "mixed_new.set_arch_param_grad()\n",
    "adam_new.step()"
   ]
  },
  {
   "cell_type": "code",
   "execution_count": 37,
   "metadata": {},
   "outputs": [
    {
     "data": {
      "text/plain": [
       "True"
      ]
     },
     "execution_count": 37,
     "metadata": {},
     "output_type": "execute_result"
    }
   ],
   "source": [
    "torch.allclose(output_old, output_new)"
   ]
  },
  {
   "cell_type": "code",
   "execution_count": 9,
   "metadata": {},
   "outputs": [
    {
     "data": {
      "text/plain": [
       "tensor(True)"
      ]
     },
     "execution_count": 9,
     "metadata": {},
     "output_type": "execute_result"
    }
   ],
   "source": [
    "loss_old == loss_new"
   ]
  },
  {
   "cell_type": "code",
   "execution_count": 10,
   "metadata": {},
   "outputs": [
    {
     "data": {
      "text/plain": [
       "tensor([True, True, True, True, True, True])"
      ]
     },
     "execution_count": 10,
     "metadata": {},
     "output_type": "execute_result"
    }
   ],
   "source": [
    "mixed_old.AP_path_alpha == mixed_new.arch_params"
   ]
  },
  {
   "cell_type": "code",
   "execution_count": 11,
   "metadata": {},
   "outputs": [
    {
     "data": {
      "text/plain": [
       "tensor([ True,  True,  True, False, False,  True])"
      ]
     },
     "execution_count": 11,
     "metadata": {},
     "output_type": "execute_result"
    }
   ],
   "source": [
    "mixed_old.AP_path_wb == mixed_new.binary_gates"
   ]
  },
  {
   "cell_type": "code",
   "execution_count": 12,
   "metadata": {},
   "outputs": [
    {
     "data": {
      "text/plain": [
       "tensor([True, True, True, True, True, True])"
      ]
     },
     "execution_count": 12,
     "metadata": {},
     "output_type": "execute_result"
    }
   ],
   "source": [
    "mixed_old.AP_path_alpha.grad == mixed_new.arch_params.grad"
   ]
  },
  {
   "cell_type": "code",
   "execution_count": 13,
   "metadata": {},
   "outputs": [
    {
     "data": {
      "text/plain": [
       "tensor([True, True, True, True, True, True])"
      ]
     },
     "execution_count": 13,
     "metadata": {},
     "output_type": "execute_result"
    }
   ],
   "source": [
    "mixed_old.AP_path_wb.grad == mixed_new.binary_gates.grad"
   ]
  }
 ],
 "metadata": {
  "kernelspec": {
   "display_name": ".venv",
   "language": "python",
   "name": "python3"
  },
  "language_info": {
   "codemirror_mode": {
    "name": "ipython",
    "version": 3
   },
   "file_extension": ".py",
   "mimetype": "text/x-python",
   "name": "python",
   "nbconvert_exporter": "python",
   "pygments_lexer": "ipython3",
   "version": "3.12.5"
  }
 },
 "nbformat": 4,
 "nbformat_minor": 2
}
